{
 "cells": [
  {
   "cell_type": "markdown",
   "metadata": {},
   "source": [
    "# Python Project Template"
   ]
  },
  {
   "cell_type": "markdown",
   "metadata": {},
   "source": [
    "## Create a virtual environment"
   ]
  },
  {
   "cell_type": "code",
   "execution_count": null,
   "metadata": {},
   "outputs": [],
   "source": [
    "conda create -n project_1 python=3.7 pip jupyterlab ipykernel pandas scikit-learn seaborn # create venv \n",
    "source activate project_1\n",
    "python -m ipykernel install --user --name project_1 --display-name \"project_1\"\n"
   ]
  },
  {
   "cell_type": "code",
   "execution_count": null,
   "metadata": {},
   "outputs": [],
   "source": [
    "conda env list # check env\n",
    "conda info --envs\n",
    "conda list # list of packages\n",
    "conda deactivate"
   ]
  },
  {
   "cell_type": "markdown",
   "metadata": {},
   "source": [
    "## Python manage env "
   ]
  },
  {
   "cell_type": "code",
   "execution_count": null,
   "metadata": {},
   "outputs": [],
   "source": [
    "#Creating virtual environments\n",
    "python3 -m venv /path/to/new/virtual/environment/my_project\n",
    "\n",
    "# activate\n",
    "source my_project/bin/activate\n",
    "\n",
    "# check installed packages\n",
    "pip list\n",
    "\n",
    "# install packages in the env\n",
    "pip install pandas\n",
    "\n",
    "# export the list of packages\n",
    "pip freeze > requirements.txt\n",
    "\n",
    "# deactivate\n",
    "deactivate\n",
    "\n",
    "# delete env\n",
    "rm -rf /path/to/new/virtual/environment/my_project\n",
    "\n"
   ]
  },
  {
   "cell_type": "code",
   "execution_count": null,
   "metadata": {},
   "outputs": [],
   "source": []
  },
  {
   "cell_type": "markdown",
   "metadata": {},
   "source": [
    "## Develop Code as a Python Package"
   ]
  },
  {
   "cell_type": "code",
   "execution_count": null,
   "metadata": {},
   "outputs": [],
   "source": [
    "conda install -c conda-forge pyscaffold\n",
    "putup project_1 # create structure for project\n",
    "\n",
    "https://github.com/pyscaffold/dsproject-demo # data scientist project"
   ]
  },
  {
   "cell_type": "code",
   "execution_count": null,
   "metadata": {},
   "outputs": [],
   "source": []
  }
 ],
 "metadata": {
  "kernelspec": {
   "display_name": "Python 3",
   "language": "python",
   "name": "python3"
  },
  "language_info": {
   "codemirror_mode": {
    "name": "ipython",
    "version": 3
   },
   "file_extension": ".py",
   "mimetype": "text/x-python",
   "name": "python",
   "nbconvert_exporter": "python",
   "pygments_lexer": "ipython3",
   "version": "3.7.4"
  }
 },
 "nbformat": 4,
 "nbformat_minor": 4
}
