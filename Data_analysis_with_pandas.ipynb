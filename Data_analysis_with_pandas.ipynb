{
 "cells": [
  {
   "cell_type": "markdown",
   "metadata": {},
   "source": [
    "# Data analysis in Python with pandas "
   ]
  },
  {
   "cell_type": "markdown",
   "metadata": {},
   "source": [
    "## To do\n",
    "\n",
    "* create sample data\n",
    "\n",
    "* read a tabular data file\n",
    "\n",
    "* select series/columns from DataFrame\n",
    "\n",
    "* rename a column in a pandas DataFrame\n",
    "\n",
    "* remove columns\n",
    "\n",
    "* sort a DataFrame or Series\n",
    "\n",
    "* filter rows by column value\n",
    "\n",
    "* apply multiple filters\n",
    "\n",
    "* axis in pandas\n",
    "\n",
    "* string methods\n",
    "\n",
    "* change data type\n",
    "\n",
    "* group_by\n",
    "\n",
    "* explore a pandas series\n",
    "\n",
    "* missing values\n",
    "\n",
    "* pandas index\n",
    "\n",
    "* select multiple rows and columns\n",
    "\n",
    "* create dummy \n",
    "\n",
    "* work with date and time\n",
    "\n",
    "* remove duplicate rows\n",
    "\n",
    "* apply function to pandas series or data frame\n",
    "\n",
    "* multi-index in pandas\n",
    "\n",
    "* merge dataframes in pandas\n",
    "\n",
    "\n",
    "\n",
    "\n",
    "\n",
    "\n",
    "\n",
    "\n",
    "\n",
    "\n",
    "\n",
    "\n",
    "\n"
   ]
  },
  {
   "cell_type": "code",
   "execution_count": null,
   "metadata": {},
   "outputs": [],
   "source": []
  }
 ],
 "metadata": {
  "kernelspec": {
   "display_name": "Python 3",
   "language": "python",
   "name": "python3"
  },
  "language_info": {
   "codemirror_mode": {
    "name": "ipython",
    "version": 3
   },
   "file_extension": ".py",
   "mimetype": "text/x-python",
   "name": "python",
   "nbconvert_exporter": "python",
   "pygments_lexer": "ipython3",
   "version": "3.7.4"
  }
 },
 "nbformat": 4,
 "nbformat_minor": 4
}
