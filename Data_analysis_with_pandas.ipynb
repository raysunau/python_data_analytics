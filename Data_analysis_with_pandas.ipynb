{
 "cells": [
  {
   "cell_type": "markdown",
   "metadata": {},
   "source": [
    "# Data analysis in Python with pandas "
   ]
  },
  {
   "cell_type": "markdown",
   "metadata": {},
   "source": [
    "## To do\n",
    "\n",
    "* create sample data\n",
    "\n",
    "* read a tabular data file\n",
    "\n",
    "* select series/columns from DataFrame\n",
    "\n",
    "* rename a column in a pandas DataFrame\n",
    "\n",
    "* remove columns\n",
    "\n",
    "* sort a DataFrame or Series\n",
    "\n",
    "* filter rows by column value\n",
    "\n",
    "* apply multiple filters\n",
    "\n",
    "* axis in pandas\n",
    "\n",
    "* string methods\n",
    "\n",
    "* change data type\n",
    "\n",
    "* group_by\n",
    "\n",
    "* explore a pandas series\n",
    "\n",
    "* missing values\n",
    "\n",
    "* pandas index\n",
    "\n",
    "* select multiple rows and columns\n",
    "\n",
    "* create dummy \n",
    "\n",
    "* work with date and time\n",
    "\n",
    "* remove duplicate rows\n",
    "\n",
    "* apply function to pandas series or data frame\n",
    "\n",
    "* multi-index in pandas\n",
    "\n",
    "* merge dataframes in pandas\n",
    "\n",
    "\n",
    "* SQL common tasks:\n",
    "    * select a few rows + eda\n",
    "    * where filter\n",
    "    * group by count, count(distinct), sum, avg\n",
    "    * join\n",
    "    * case when\n",
    "    * decile\n",
    "    * window function qualify rank\n",
    "    \n",
    "\n",
    "\n",
    "\n",
    "\n",
    "\n",
    "\n",
    "\n",
    "\n",
    "\n",
    "\n"
   ]
  },
  {
   "cell_type": "markdown",
   "metadata": {},
   "source": [
    "## Pandas Functions/Methods"
   ]
  },
  {
   "cell_type": "markdown",
   "metadata": {},
   "source": [
    "### 统计汇总函数"
   ]
  },
  {
   "cell_type": "markdown",
   "metadata": {},
   "source": [
    "| 函数           | 含义                                     |\n",
    "|----------------|------------------------------------------|\n",
    "| min()          | 计算最小值                               |\n",
    "| max()          | 计算最大值                               |\n",
    "| sum()          | 求和                                     |\n",
    "| mean()         | 计算平均值                               |\n",
    "| count()        | 计数（统计非缺失元素的个数）             |\n",
    "| size()         | 计数（统计所有元素的个数）               |\n",
    "| median()       | 计算中位数                               |\n",
    "| var()          | 计算方差                                 |\n",
    "| std()          | 计算标准差                               |\n",
    "| quantile()     | 计算任意分位数                           |\n",
    "| cov()          | 计算协方差                               |\n",
    "| corr()         | 计算相关系数                             |\n",
    "| skew()         | 计算偏度                                 |\n",
    "| kurt()         | 计算峰度                                 |\n",
    "| mode()         | 计算众数                                 |\n",
    "| describe()     | 描述性统计（一次性返回多个统计结果）     |\n",
    "| groupby()      | 分组                                     |\n",
    "| aggregate()    | 聚合运算（可以自定义统计函数）           |\n",
    "| argmin()       | 寻找最小值所在位置                       |\n",
    "| argmax()       | 寻找最大值所在位置                       |\n",
    "| any()          | 等价于逻辑“或”                           |\n",
    "| all()          | 等价于逻辑“与”                           |\n",
    "| value_counts() | 频次统计                                 |\n",
    "| cumsum()       | 运算累计和                               |\n",
    "| cumprod()      | 运算累计积                               |\n",
    "| pct­­_change() | 运算比率（后一个元素与前一个元素的比率） |"
   ]
  },
  {
   "cell_type": "markdown",
   "metadata": {},
   "source": [
    "### 数据清洗函数"
   ]
  },
  {
   "cell_type": "markdown",
   "metadata": {},
   "source": [
    "| 函数              | 含义                                                   |\n",
    "|-------------------|--------------------------------------------------------|\n",
    "| duplicated()      | 判断序列元素是否重复。                                 |\n",
    "| drop_duplicates() | 删除重复值                                             |\n",
    "| hasnans()         | 判断序列是否存在缺失（返回TRUE或FALSE）                |\n",
    "| isnull()          | 判断序列元素是否为缺失（返回与序列长度一样的bool值）   |\n",
    "| notnull()         | 判断序列元素是否不为缺失（返回与序列长度一样的bool值） |\n",
    "| dropna()          | 删除缺失值                                             |\n",
    "| fillna()          | 缺失值填充                                             |\n",
    "| ffill()           | 前向后填充缺失值（使用缺失值的前一个元素填充）         |\n",
    "| bfill()           | 后向填充缺失值（使用缺失值的后一个元素填充）           |\n",
    "| dtypes()          | 检查数据类型                                           |\n",
    "| astype()          | 类型强制转换                                           |\n",
    "| pd.to_datetime    | 转日期时间型                                           |\n",
    "| factorize()       | 因子化转换                                             |\n",
    "| sample()          | 抽样                                                   |\n",
    "| where()           | 基于条件判断的值替换                                   |\n",
    "| replace()         | 按值替换（不可使用正则）                               |\n",
    "| str.replace()     | 按值替换（可使用正则）                                 |\n",
    "| str.split.str()   | 字符分隔                                               |"
   ]
  },
  {
   "cell_type": "markdown",
   "metadata": {},
   "source": [
    "### 数据筛选函数"
   ]
  },
  {
   "cell_type": "markdown",
   "metadata": {},
   "source": [
    "| 函数          | 含义                         |\n",
    "|---------------|------------------------------|\n",
    "| isin()        | 成员关系判断                 |\n",
    "| between()     | 区间判断                     |\n",
    "| loc()         | 条件判断（可使用在数据框中） |\n",
    "| iloc()        | 索引判断（可使用在数据框中） |\n",
    "| compress()    | 条件判断                     |\n",
    "| nlargest()    | 搜寻最大的n个元素            |\n",
    "| nsmallest()   | 搜寻最小的n个元素            |\n",
    "| str.findall() | 子串查询（可使用正则）       |"
   ]
  },
  {
   "cell_type": "markdown",
   "metadata": {},
   "source": [
    "### 绘图与元素级运算函数"
   ]
  },
  {
   "cell_type": "markdown",
   "metadata": {},
   "source": [
    "| 函数    | 含义                                                 |\n",
    "|---------|------------------------------------------------------|\n",
    "| hist()  | 绘制直方图                                           |\n",
    "| plot()  | 可基于kind参数绘制更多图形（饼图，折线图，箱线图等） |\n",
    "| map()   | 元素映射                                             |\n",
    "| apply() | 基于自定义函数的元素级操作                           |"
   ]
  },
  {
   "cell_type": "markdown",
   "metadata": {},
   "source": [
    "### 时间序列函数"
   ]
  },
  {
   "cell_type": "markdown",
   "metadata": {},
   "source": [
    "| 函数                  | 含义                           |\n",
    "|-----------------------|--------------------------------|\n",
    "| dt.date()             | 抽取出日期值                   |\n",
    "| dt.time()             | 抽取出时间（时分秒）           |\n",
    "| dt.year()             | 抽取出年                       |\n",
    "| dt.mouth()            | 抽取出月                       |\n",
    "| dt.day()              | 抽取出日                       |\n",
    "| dt.hour()             | 抽取出时                       |\n",
    "| dt.minute()           | 抽取出分钟                     |\n",
    "| dt.second()           | 抽取出秒                       |\n",
    "| dt.quarter()          | 抽取出季度                     |\n",
    "| dt.weekday()          | 抽取出星期几（返回数值型）     |\n",
    "| dt.weekday_name()     | 抽取出星期几（返回字符型）     |\n",
    "| dt.week()             | 抽取出年中的第几周             |\n",
    "| dt.dayofyear()        | 抽取出年中的第几天             |\n",
    "| dt.daysinmonth()      | 抽取出月对应的最大天数         |\n",
    "| dt.is_month_start()   | 判断日期是否为当月的第一天     |\n",
    "| dt.is_month_end()     | 判断日期是否为当月的最后一天   |\n",
    "| dt.is_quarter_start() | 判断日期是否为当季度的第一天   |\n",
    "| dt.is_quarter_end()   | 判断日期是否为当季度的最后一天 |\n",
    "| dt.is_year_start()    | 判断日期是否为当年的第一天     |\n",
    "| dt.is_year_end()      | 判断日期是否为当年的最后一天   |\n",
    "| dt.is_leap_year()     | 判断日期是否为闰年             |"
   ]
  },
  {
   "cell_type": "markdown",
   "metadata": {},
   "source": [
    "### 其他函数"
   ]
  },
  {
   "cell_type": "markdown",
   "metadata": {},
   "source": [
    "| 函数          | 含义                             |\n",
    "|---------------|----------------------------------|\n",
    "| append()      | 序列元素的追加（需指定其他序列） |\n",
    "| diff()        | 一阶差分                         |\n",
    "| round()       | 元素的四舍五入                   |\n",
    "| sort_values() | 按值排序                         |\n",
    "| sort_index()  | 按索引排序                       |\n",
    "| to_dict()     | 转为字典                         |\n",
    "| tolist()      | 转为列表                         |\n",
    "| unique()      | 元素排重                         |"
   ]
  },
  {
   "cell_type": "code",
   "execution_count": 6,
   "metadata": {},
   "outputs": [],
   "source": [
    "import pandas as pd\n",
    "import numpy as np"
   ]
  },
  {
   "cell_type": "markdown",
   "metadata": {},
   "source": [
    "## [Pandas tutorials](https://pandas.pydata.org/docs/getting_started/intro_tutorials/index.html)"
   ]
  },
  {
   "cell_type": "markdown",
   "metadata": {},
   "source": [
    "### if-then/if-then-else on one column, and assignment to another one or more columns:"
   ]
  },
  {
   "cell_type": "code",
   "execution_count": 3,
   "metadata": {},
   "outputs": [
    {
     "data": {
      "text/html": [
       "<div>\n",
       "<style scoped>\n",
       "    .dataframe tbody tr th:only-of-type {\n",
       "        vertical-align: middle;\n",
       "    }\n",
       "\n",
       "    .dataframe tbody tr th {\n",
       "        vertical-align: top;\n",
       "    }\n",
       "\n",
       "    .dataframe thead th {\n",
       "        text-align: right;\n",
       "    }\n",
       "</style>\n",
       "<table border=\"1\" class=\"dataframe\">\n",
       "  <thead>\n",
       "    <tr style=\"text-align: right;\">\n",
       "      <th></th>\n",
       "      <th>AAA</th>\n",
       "      <th>BBB</th>\n",
       "      <th>CCC</th>\n",
       "    </tr>\n",
       "  </thead>\n",
       "  <tbody>\n",
       "    <tr>\n",
       "      <td>0</td>\n",
       "      <td>4</td>\n",
       "      <td>10</td>\n",
       "      <td>100</td>\n",
       "    </tr>\n",
       "    <tr>\n",
       "      <td>1</td>\n",
       "      <td>5</td>\n",
       "      <td>20</td>\n",
       "      <td>50</td>\n",
       "    </tr>\n",
       "    <tr>\n",
       "      <td>2</td>\n",
       "      <td>6</td>\n",
       "      <td>30</td>\n",
       "      <td>-30</td>\n",
       "    </tr>\n",
       "    <tr>\n",
       "      <td>3</td>\n",
       "      <td>7</td>\n",
       "      <td>40</td>\n",
       "      <td>-50</td>\n",
       "    </tr>\n",
       "  </tbody>\n",
       "</table>\n",
       "</div>"
      ],
      "text/plain": [
       "   AAA  BBB  CCC\n",
       "0    4   10  100\n",
       "1    5   20   50\n",
       "2    6   30  -30\n",
       "3    7   40  -50"
      ]
     },
     "execution_count": 3,
     "metadata": {},
     "output_type": "execute_result"
    }
   ],
   "source": [
    "df = pd.DataFrame(\n",
    "   {\"AAA\": [4, 5, 6, 7], \"BBB\": [10, 20, 30, 40], \"CCC\": [100, 50, -30, -50]}\n",
    "   )\n",
    "\n",
    "df"
   ]
  },
  {
   "cell_type": "code",
   "execution_count": 4,
   "metadata": {},
   "outputs": [
    {
     "data": {
      "text/html": [
       "<div>\n",
       "<style scoped>\n",
       "    .dataframe tbody tr th:only-of-type {\n",
       "        vertical-align: middle;\n",
       "    }\n",
       "\n",
       "    .dataframe tbody tr th {\n",
       "        vertical-align: top;\n",
       "    }\n",
       "\n",
       "    .dataframe thead th {\n",
       "        text-align: right;\n",
       "    }\n",
       "</style>\n",
       "<table border=\"1\" class=\"dataframe\">\n",
       "  <thead>\n",
       "    <tr style=\"text-align: right;\">\n",
       "      <th></th>\n",
       "      <th>AAA</th>\n",
       "      <th>BBB</th>\n",
       "      <th>CCC</th>\n",
       "    </tr>\n",
       "  </thead>\n",
       "  <tbody>\n",
       "    <tr>\n",
       "      <td>0</td>\n",
       "      <td>4</td>\n",
       "      <td>10</td>\n",
       "      <td>100</td>\n",
       "    </tr>\n",
       "    <tr>\n",
       "      <td>1</td>\n",
       "      <td>5</td>\n",
       "      <td>-1</td>\n",
       "      <td>50</td>\n",
       "    </tr>\n",
       "    <tr>\n",
       "      <td>2</td>\n",
       "      <td>6</td>\n",
       "      <td>-1</td>\n",
       "      <td>-30</td>\n",
       "    </tr>\n",
       "    <tr>\n",
       "      <td>3</td>\n",
       "      <td>7</td>\n",
       "      <td>-1</td>\n",
       "      <td>-50</td>\n",
       "    </tr>\n",
       "  </tbody>\n",
       "</table>\n",
       "</div>"
      ],
      "text/plain": [
       "   AAA  BBB  CCC\n",
       "0    4   10  100\n",
       "1    5   -1   50\n",
       "2    6   -1  -30\n",
       "3    7   -1  -50"
      ]
     },
     "execution_count": 4,
     "metadata": {},
     "output_type": "execute_result"
    }
   ],
   "source": [
    "# if-then on one column\n",
    "\n",
    "df.loc[df.AAA >= 5, \"BBB\"] = -1\n",
    "df"
   ]
  },
  {
   "cell_type": "code",
   "execution_count": 5,
   "metadata": {},
   "outputs": [
    {
     "data": {
      "text/html": [
       "<div>\n",
       "<style scoped>\n",
       "    .dataframe tbody tr th:only-of-type {\n",
       "        vertical-align: middle;\n",
       "    }\n",
       "\n",
       "    .dataframe tbody tr th {\n",
       "        vertical-align: top;\n",
       "    }\n",
       "\n",
       "    .dataframe thead th {\n",
       "        text-align: right;\n",
       "    }\n",
       "</style>\n",
       "<table border=\"1\" class=\"dataframe\">\n",
       "  <thead>\n",
       "    <tr style=\"text-align: right;\">\n",
       "      <th></th>\n",
       "      <th>AAA</th>\n",
       "      <th>BBB</th>\n",
       "      <th>CCC</th>\n",
       "    </tr>\n",
       "  </thead>\n",
       "  <tbody>\n",
       "    <tr>\n",
       "      <td>0</td>\n",
       "      <td>4</td>\n",
       "      <td>10</td>\n",
       "      <td>100</td>\n",
       "    </tr>\n",
       "    <tr>\n",
       "      <td>1</td>\n",
       "      <td>5</td>\n",
       "      <td>555</td>\n",
       "      <td>555</td>\n",
       "    </tr>\n",
       "    <tr>\n",
       "      <td>2</td>\n",
       "      <td>6</td>\n",
       "      <td>555</td>\n",
       "      <td>555</td>\n",
       "    </tr>\n",
       "    <tr>\n",
       "      <td>3</td>\n",
       "      <td>7</td>\n",
       "      <td>555</td>\n",
       "      <td>555</td>\n",
       "    </tr>\n",
       "  </tbody>\n",
       "</table>\n",
       "</div>"
      ],
      "text/plain": [
       "   AAA  BBB  CCC\n",
       "0    4   10  100\n",
       "1    5  555  555\n",
       "2    6  555  555\n",
       "3    7  555  555"
      ]
     },
     "execution_count": 5,
     "metadata": {},
     "output_type": "execute_result"
    }
   ],
   "source": [
    "df.loc[df.AAA >= 5, [\"BBB\", \"CCC\"]] = 555\n",
    "\n",
    "df"
   ]
  },
  {
   "cell_type": "code",
   "execution_count": 7,
   "metadata": {},
   "outputs": [
    {
     "data": {
      "text/html": [
       "<div>\n",
       "<style scoped>\n",
       "    .dataframe tbody tr th:only-of-type {\n",
       "        vertical-align: middle;\n",
       "    }\n",
       "\n",
       "    .dataframe tbody tr th {\n",
       "        vertical-align: top;\n",
       "    }\n",
       "\n",
       "    .dataframe thead th {\n",
       "        text-align: right;\n",
       "    }\n",
       "</style>\n",
       "<table border=\"1\" class=\"dataframe\">\n",
       "  <thead>\n",
       "    <tr style=\"text-align: right;\">\n",
       "      <th></th>\n",
       "      <th>AAA</th>\n",
       "      <th>BBB</th>\n",
       "      <th>CCC</th>\n",
       "    </tr>\n",
       "  </thead>\n",
       "  <tbody>\n",
       "    <tr>\n",
       "      <td>0</td>\n",
       "      <td>4</td>\n",
       "      <td>10</td>\n",
       "      <td>100</td>\n",
       "    </tr>\n",
       "    <tr>\n",
       "      <td>1</td>\n",
       "      <td>5</td>\n",
       "      <td>20</td>\n",
       "      <td>50</td>\n",
       "    </tr>\n",
       "    <tr>\n",
       "      <td>2</td>\n",
       "      <td>6</td>\n",
       "      <td>30</td>\n",
       "      <td>-30</td>\n",
       "    </tr>\n",
       "    <tr>\n",
       "      <td>3</td>\n",
       "      <td>7</td>\n",
       "      <td>40</td>\n",
       "      <td>-50</td>\n",
       "    </tr>\n",
       "  </tbody>\n",
       "</table>\n",
       "</div>"
      ],
      "text/plain": [
       "   AAA  BBB  CCC\n",
       "0    4   10  100\n",
       "1    5   20   50\n",
       "2    6   30  -30\n",
       "3    7   40  -50"
      ]
     },
     "execution_count": 7,
     "metadata": {},
     "output_type": "execute_result"
    }
   ],
   "source": [
    "# if then else using Numpy's where\n",
    "\n",
    "df = pd.DataFrame(\n",
    "   {\"AAA\": [4, 5, 6, 7], \"BBB\": [10, 20, 30, 40], \"CCC\": [100, 50, -30, -50]}\n",
    ")\n",
    "\n",
    "df"
   ]
  },
  {
   "cell_type": "code",
   "execution_count": 9,
   "metadata": {},
   "outputs": [
    {
     "data": {
      "text/html": [
       "<div>\n",
       "<style scoped>\n",
       "    .dataframe tbody tr th:only-of-type {\n",
       "        vertical-align: middle;\n",
       "    }\n",
       "\n",
       "    .dataframe tbody tr th {\n",
       "        vertical-align: top;\n",
       "    }\n",
       "\n",
       "    .dataframe thead th {\n",
       "        text-align: right;\n",
       "    }\n",
       "</style>\n",
       "<table border=\"1\" class=\"dataframe\">\n",
       "  <thead>\n",
       "    <tr style=\"text-align: right;\">\n",
       "      <th></th>\n",
       "      <th>AAA</th>\n",
       "      <th>BBB</th>\n",
       "      <th>CCC</th>\n",
       "      <th>logic</th>\n",
       "    </tr>\n",
       "  </thead>\n",
       "  <tbody>\n",
       "    <tr>\n",
       "      <td>0</td>\n",
       "      <td>4</td>\n",
       "      <td>10</td>\n",
       "      <td>100</td>\n",
       "      <td>low</td>\n",
       "    </tr>\n",
       "    <tr>\n",
       "      <td>1</td>\n",
       "      <td>5</td>\n",
       "      <td>20</td>\n",
       "      <td>50</td>\n",
       "      <td>low</td>\n",
       "    </tr>\n",
       "    <tr>\n",
       "      <td>2</td>\n",
       "      <td>6</td>\n",
       "      <td>30</td>\n",
       "      <td>-30</td>\n",
       "      <td>high</td>\n",
       "    </tr>\n",
       "    <tr>\n",
       "      <td>3</td>\n",
       "      <td>7</td>\n",
       "      <td>40</td>\n",
       "      <td>-50</td>\n",
       "      <td>high</td>\n",
       "    </tr>\n",
       "  </tbody>\n",
       "</table>\n",
       "</div>"
      ],
      "text/plain": [
       "   AAA  BBB  CCC logic\n",
       "0    4   10  100   low\n",
       "1    5   20   50   low\n",
       "2    6   30  -30  high\n",
       "3    7   40  -50  high"
      ]
     },
     "execution_count": 9,
     "metadata": {},
     "output_type": "execute_result"
    }
   ],
   "source": [
    "df[\"logic\"] = np.where(df[\"AAA\"] > 5, \"high\", \"low\")\n",
    "df"
   ]
  },
  {
   "cell_type": "code",
   "execution_count": null,
   "metadata": {},
   "outputs": [],
   "source": []
  }
 ],
 "metadata": {
  "kernelspec": {
   "display_name": "Python 3",
   "language": "python",
   "name": "python3"
  },
  "language_info": {
   "codemirror_mode": {
    "name": "ipython",
    "version": 3
   },
   "file_extension": ".py",
   "mimetype": "text/x-python",
   "name": "python",
   "nbconvert_exporter": "python",
   "pygments_lexer": "ipython3",
   "version": "3.7.4"
  }
 },
 "nbformat": 4,
 "nbformat_minor": 4
}
