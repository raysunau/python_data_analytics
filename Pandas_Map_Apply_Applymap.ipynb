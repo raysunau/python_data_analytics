{
 "cells": [
  {
   "cell_type": "markdown",
   "metadata": {},
   "source": [
    "# Pandas map apply and applymap methods Comparison "
   ]
  },
  {
   "cell_type": "markdown",
   "metadata": {},
   "source": [
    "## Compare map,apply and applymap\n",
    "\n",
    "1. Definition\n",
    "    * map is defined on Series ONLY\n",
    "    * apply is defined on BOTH DataFrames and Series\n",
    "    * applymap is defnied on DataFrames ONLY\n",
    "    \n",
    "2. Input\n",
    "    * map - dictionaries,Series or callable objects\n",
    "    * apply and applymap accept callables objects only\n",
    "    \n",
    "3. Behaviour\n",
    "    * map is element-wise for Series, one element at time\n",
    "    * apply is element-wise for more complex operations and aggregation, like rows and columns at time\n",
    "    * applymap is element-wise for DataFrames, one cell at time\n",
    "\n",
    "4. Use case\n",
    "    * map is meant to map value from one to another so optimised for performance\n",
    "    \n",
    "    (e.g., df['A'].map({1:'a', 2:'b', 3:'c'}))\n",
    "    \n",
    "    * apply is is for applying any function that cannot be vectorised \n",
    "    \n",
    "    (e.g., df['sentences'].apply(nltk.sent_tokenize))\n",
    "    \n",
    "    * applymap is good for elementwise transformations across multiple rows/columns \n",
    "    \n",
    "    (e.g., df[['A', 'B', 'C']].applymap(str.strip))\n",
    "\n",
    "### Summary\n",
    "\n",
    "|                       | map                    | apply               | applymap       |\n",
    "|-----------------------|------------------------|---------------------|----------------|\n",
    "| Defined on Series?    | YES                    | YES                 | NO             |\n",
    "| Defined on DataFrame? | NO                     | YES                 | YES            |\n",
    "| Aggregation?          | NO                     | YES                 | NO             |\n",
    "| Use case              | Transformation/mapping | Complex functions   | Transformation |\n",
    "| Return                | Series                 | Series or DataFrame | DataFrame      |"
   ]
  },
  {
   "cell_type": "markdown",
   "metadata": {},
   "source": [
    "### Examples "
   ]
  },
  {
   "cell_type": "code",
   "execution_count": 1,
   "metadata": {},
   "outputs": [],
   "source": [
    "import numpy as np\n",
    "import pandas as pd\n",
    "\n",
    "import seaborn as sns"
   ]
  },
  {
   "cell_type": "code",
   "execution_count": 4,
   "metadata": {},
   "outputs": [
    {
     "data": {
      "text/html": [
       "<div>\n",
       "<style scoped>\n",
       "    .dataframe tbody tr th:only-of-type {\n",
       "        vertical-align: middle;\n",
       "    }\n",
       "\n",
       "    .dataframe tbody tr th {\n",
       "        vertical-align: top;\n",
       "    }\n",
       "\n",
       "    .dataframe thead th {\n",
       "        text-align: right;\n",
       "    }\n",
       "</style>\n",
       "<table border=\"1\" class=\"dataframe\">\n",
       "  <thead>\n",
       "    <tr style=\"text-align: right;\">\n",
       "      <th></th>\n",
       "      <th>b</th>\n",
       "      <th>d</th>\n",
       "      <th>e</th>\n",
       "    </tr>\n",
       "  </thead>\n",
       "  <tbody>\n",
       "    <tr>\n",
       "      <td>Utah</td>\n",
       "      <td>-1.016641</td>\n",
       "      <td>-0.542376</td>\n",
       "      <td>0.668147</td>\n",
       "    </tr>\n",
       "    <tr>\n",
       "      <td>Ohio</td>\n",
       "      <td>0.509756</td>\n",
       "      <td>-0.533185</td>\n",
       "      <td>0.586519</td>\n",
       "    </tr>\n",
       "    <tr>\n",
       "      <td>Texas</td>\n",
       "      <td>0.346233</td>\n",
       "      <td>-0.360527</td>\n",
       "      <td>-0.434182</td>\n",
       "    </tr>\n",
       "    <tr>\n",
       "      <td>Oregon</td>\n",
       "      <td>-0.186114</td>\n",
       "      <td>1.280291</td>\n",
       "      <td>0.493451</td>\n",
       "    </tr>\n",
       "  </tbody>\n",
       "</table>\n",
       "</div>"
      ],
      "text/plain": [
       "               b         d         e\n",
       "Utah   -1.016641 -0.542376  0.668147\n",
       "Ohio    0.509756 -0.533185  0.586519\n",
       "Texas   0.346233 -0.360527 -0.434182\n",
       "Oregon -0.186114  1.280291  0.493451"
      ]
     },
     "execution_count": 4,
     "metadata": {},
     "output_type": "execute_result"
    }
   ],
   "source": [
    "df = pd.DataFrame(np.random.randn(4, 3), columns=list('bde'), index=['Utah', 'Ohio', 'Texas', 'Oregon'])\n",
    "\n",
    "df"
   ]
  },
  {
   "cell_type": "code",
   "execution_count": 13,
   "metadata": {},
   "outputs": [
    {
     "data": {
      "text/plain": [
       "Utah      1.016641\n",
       "Ohio     -0.509756\n",
       "Texas    -0.346233\n",
       "Oregon    0.186114\n",
       "Name: b, dtype: float64"
      ]
     },
     "execution_count": 13,
     "metadata": {},
     "output_type": "execute_result"
    }
   ],
   "source": [
    "df['b'].map(lambda x: x * -1)"
   ]
  },
  {
   "cell_type": "code",
   "execution_count": 6,
   "metadata": {},
   "outputs": [
    {
     "data": {
      "text/plain": [
       "b    1.526397\n",
       "d    1.822666\n",
       "e    1.102329\n",
       "dtype: float64"
      ]
     },
     "execution_count": 6,
     "metadata": {},
     "output_type": "execute_result"
    }
   ],
   "source": [
    "\n",
    "f1 = lambda x: x.max()-x.min()\n",
    "\n",
    "df.apply(f1)"
   ]
  },
  {
   "cell_type": "code",
   "execution_count": 7,
   "metadata": {},
   "outputs": [
    {
     "data": {
      "text/html": [
       "<div>\n",
       "<style scoped>\n",
       "    .dataframe tbody tr th:only-of-type {\n",
       "        vertical-align: middle;\n",
       "    }\n",
       "\n",
       "    .dataframe tbody tr th {\n",
       "        vertical-align: top;\n",
       "    }\n",
       "\n",
       "    .dataframe thead th {\n",
       "        text-align: right;\n",
       "    }\n",
       "</style>\n",
       "<table border=\"1\" class=\"dataframe\">\n",
       "  <thead>\n",
       "    <tr style=\"text-align: right;\">\n",
       "      <th></th>\n",
       "      <th>b</th>\n",
       "      <th>d</th>\n",
       "      <th>e</th>\n",
       "    </tr>\n",
       "  </thead>\n",
       "  <tbody>\n",
       "    <tr>\n",
       "      <td>Utah</td>\n",
       "      <td>-1.02</td>\n",
       "      <td>-0.54</td>\n",
       "      <td>0.67</td>\n",
       "    </tr>\n",
       "    <tr>\n",
       "      <td>Ohio</td>\n",
       "      <td>0.51</td>\n",
       "      <td>-0.53</td>\n",
       "      <td>0.59</td>\n",
       "    </tr>\n",
       "    <tr>\n",
       "      <td>Texas</td>\n",
       "      <td>0.35</td>\n",
       "      <td>-0.36</td>\n",
       "      <td>-0.43</td>\n",
       "    </tr>\n",
       "    <tr>\n",
       "      <td>Oregon</td>\n",
       "      <td>-0.19</td>\n",
       "      <td>1.28</td>\n",
       "      <td>0.49</td>\n",
       "    </tr>\n",
       "  </tbody>\n",
       "</table>\n",
       "</div>"
      ],
      "text/plain": [
       "            b      d      e\n",
       "Utah    -1.02  -0.54   0.67\n",
       "Ohio     0.51  -0.53   0.59\n",
       "Texas    0.35  -0.36  -0.43\n",
       "Oregon  -0.19   1.28   0.49"
      ]
     },
     "execution_count": 7,
     "metadata": {},
     "output_type": "execute_result"
    }
   ],
   "source": [
    "f2 = lambda x: '%.2f' % x\n",
    "\n",
    "df.applymap(f2)"
   ]
  }
 ],
 "metadata": {
  "kernelspec": {
   "display_name": "Python 3",
   "language": "python",
   "name": "python3"
  },
  "language_info": {
   "codemirror_mode": {
    "name": "ipython",
    "version": 3
   },
   "file_extension": ".py",
   "mimetype": "text/x-python",
   "name": "python",
   "nbconvert_exporter": "python",
   "pygments_lexer": "ipython3",
   "version": "3.7.4"
  }
 },
 "nbformat": 4,
 "nbformat_minor": 4
}
